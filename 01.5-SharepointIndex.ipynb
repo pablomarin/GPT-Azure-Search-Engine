{
  "cells": [
    {
      "cell_type": "code",
      "execution_count": 148,
      "id": "33ebcb0f-f620-4e1c-992c-c316466c3291",
      "metadata": {
        "gather": {
          "logged": 1687904979196
        }
      },
      "outputs": [],
      "source": [
        "import os\n",
        "import json\n",
        "import requests\n",
        "from dotenv import load_dotenv\n",
        "load_dotenv(\"credentials.env\")\n",
        "\n",
        "# Set the Data source connection string. This is where the Arxiv's 9.8k PDFs are. \n",
        "# You can change it and use your own data if you wish\n",
        "DATASOURCE_CONNECTION_STRING = \"DefaultEndpointsProtocol=https;AccountName=snworkshopstorageaccount;AccountKey=zZqx5QrSv6kgn9mkknZhuRWuQUKoAwosmzlFnofBPc3PRP87DFr+MCgPFnKVfZGjLMSlYolIfeJZ+AStuN4uvw==;EndpointSuffix=core.windows.net\"\n",
        "DATASOURCE_SAS_TOKEN = \"sp=r&st=2023-06-27T15:27:20Z&se=2023-06-30T23:27:20Z&spr=https&sv=2022-11-02&sr=c&sig=kawBpMFvouMS31oi3c5obdIdlL34XAbVdBShDDEHL6s%3D\"\n",
        "BLOB_CONTAINER_NAME = \"workshop-cognitivesearch\""
      ]
    },
    {
      "cell_type": "code",
      "execution_count": 149,
      "id": "85712658-09da-41aa-984f-e1c789e2da35",
      "metadata": {
        "gather": {
          "logged": 1687904981324
        },
        "jupyter": {
          "outputs_hidden": false,
          "source_hidden": false
        },
        "nteract": {
          "transient": {
            "deleting": false
          }
        }
      },
      "outputs": [],
      "source": [
        "# # Define the names for the data source, skillset, index and indexer for SharePoint Online\n",
        "datasource_name = \"cogsrch-datasource-files-sp-ananya\"\n",
        "skillset_name = \"cogsrch-skillset-files-sp-ananya\"\n",
        "index_name = \"cogsrch-index-files-sp-ananya\"\n",
        "indexer_name = \"cogsrch-indexer-files-sp-ananya\""
      ]
    },
    {
      "cell_type": "code",
      "execution_count": 150,
      "id": "1a412c90-86ce-47ab-b187-7926b2f588d2",
      "metadata": {
        "gather": {
          "logged": 1687904983911
        },
        "jupyter": {
          "outputs_hidden": false,
          "source_hidden": false
        },
        "nteract": {
          "transient": {
            "deleting": false
          }
        }
      },
      "outputs": [],
      "source": [
        "# Setup the Payloads header\n",
        "headers = {'Content-Type': 'application/json','api-key': os.environ['AZURE_SEARCH_KEY']}\n",
        "AZURE_SEARCH_API_VERSION = '2020-06-30-Preview'\n",
        "params = {'api-version': AZURE_SEARCH_API_VERSION}"
      ]
    },
    {
      "cell_type": "code",
      "execution_count": 151,
      "id": "86d6fe83-db61-4124-a716-fc5ca1f2cb9a",
      "metadata": {
        "gather": {
          "logged": 1687904987846
        },
        "jupyter": {
          "outputs_hidden": false,
          "source_hidden": false
        },
        "nteract": {
          "transient": {
            "deleting": false
          }
        }
      },
      "outputs": [
        {
          "name": "stdout",
          "output_type": "stream",
          "text": [
            "201\n",
            "True\n",
            "{\"@odata.context\":\"https://cog-search-bimbirzg7bdhi.search.windows.net/$metadata#datasources/$entity\",\"@odata.etag\":\"\\\"0x8DB775E0428138A\\\"\",\"name\":\"cogsrch-datasource-files-sp-ananya\",\"description\":null,\"type\":\"sharepoint\",\"subtype\":null,\"credentials\":{\"connectionString\":null},\"container\":{\"name\":\"useQuery\",\"query\":\"includeLibrariesInSite=https://sleepnumberdevtenant.sharepoint.com/sites/sleeplife/\"},\"dataChangeDetectionPolicy\":null,\"dataDeletionDetectionPolicy\":null,\"encryptionKey\":null}\n"
          ]
        }
      ],
      "source": [
        "#Create SharePoint Online Data Source\n",
        "\n",
        "# POST https://[service name].search.windows.net/datasources?api-version=2020-06-30-Preview\n",
        "# Content-Type: application/json\n",
        "# api-key: [admin key]\n",
        "\n",
        "datasource_payload = {\n",
        "    \"name\" : datasource_name,\n",
        "    \"type\" : \"sharepoint\",\n",
        "    \"credentials\" : { \"connectionString\" : \"SharePointOnlineEndpoint=https://sleepnumberdevtenant.sharepoint.com/sites/sleeplife;ApplicationId=9687bba1-a844-4600-9e19-bafeb9af3b13;TenantId=faf621de-fda8-4938-af5f-804dc43d407d\" },\n",
        "    \"container\" : {  \"name\" : \"useQuery\", \"query\" : \"includeLibrariesInSite=https://sleepnumberdevtenant.sharepoint.com/sites/sleeplife/\" }\n",
        "}\n",
        "\n",
        "r = requests.put(os.environ['AZURE_SEARCH_ENDPOINT'] + \"/datasources/\" + datasource_name,\n",
        "                 data=json.dumps(datasource_payload), headers=headers, params=params)\n",
        "print(r.status_code)\n",
        "print(r.ok)\n",
        "print(r.text)"
      ]
    },
    {
      "cell_type": "code",
      "execution_count": 141,
      "id": "e6caaa2a-17cb-43ef-9962-87e23df3fa0c",
      "metadata": {
        "gather": {
          "logged": 1687904415170
        },
        "jupyter": {
          "outputs_hidden": false,
          "source_hidden": false
        },
        "nteract": {
          "transient": {
            "deleting": false
          }
        }
      },
      "outputs": [
        {
          "name": "stdout",
          "output_type": "stream",
          "text": [
            "201\n",
            "True\n"
          ]
        }
      ],
      "source": [
        "# Create a skillset\n",
        "skillset_payload = {\n",
        "    \"name\": skillset_name,\n",
        "    \"description\": \"Extract entities, detect language and extract key-phrases\",\n",
        "    \"skills\":\n",
        "    [\n",
        "        {\n",
        "            \"@odata.type\": \"#Microsoft.Skills.Vision.OcrSkill\",\n",
        "            \"description\": \"Extract text (plain and structured) from image.\",\n",
        "            \"context\": \"/document/normalized_images/*\",\n",
        "            \"defaultLanguageCode\": \"en\",\n",
        "            \"detectOrientation\": True,\n",
        "            \"inputs\": [\n",
        "                {\n",
        "                  \"name\": \"image\",\n",
        "                  \"source\": \"/document/normalized_images/*\"\n",
        "                }\n",
        "            ],\n",
        "                \"outputs\": [\n",
        "                {\n",
        "                  \"name\": \"text\",\n",
        "                  \"targetName\" : \"images_text\"\n",
        "                }\n",
        "            ]\n",
        "        },\n",
        "        {\n",
        "            \"@odata.type\": \"#Microsoft.Skills.Text.MergeSkill\",\n",
        "            \"description\": \"Create merged_text, which includes all the textual representation of each image inserted at the right location in the content field. This is useful for PDF and other file formats that supported embedded images.\",\n",
        "            \"context\": \"/document\",\n",
        "            \"insertPreTag\": \" \",\n",
        "            \"insertPostTag\": \" \",\n",
        "            \"inputs\": [\n",
        "                {\n",
        "                  \"name\":\"text\", \"source\": \"/document/content\"\n",
        "                },\n",
        "                {\n",
        "                  \"name\": \"itemsToInsert\", \"source\": \"/document/normalized_images/*/images_text\"\n",
        "                },\n",
        "                {\n",
        "                  \"name\":\"offsets\", \"source\": \"/document/normalized_images/*/contentOffset\"\n",
        "                }\n",
        "            ],\n",
        "            \"outputs\": [\n",
        "                {\n",
        "                  \"name\": \"mergedText\", \n",
        "                  \"targetName\" : \"merged_text\"\n",
        "                }\n",
        "            ]\n",
        "        },\n",
        "        {\n",
        "            \"@odata.type\": \"#Microsoft.Skills.Text.LanguageDetectionSkill\",\n",
        "            \"context\": \"/document\",\n",
        "            \"description\": \"If you have multilingual content, adding a language code is useful for filtering\",\n",
        "            \"inputs\": [\n",
        "                {\n",
        "                  \"name\": \"text\",\n",
        "                  \"source\": \"/document/content\"\n",
        "                }\n",
        "            ],\n",
        "            \"outputs\": [\n",
        "                {\n",
        "                  \"name\": \"languageCode\",\n",
        "                  \"targetName\": \"language\"\n",
        "                }\n",
        "            ]\n",
        "        },\n",
        "        {\n",
        "            \"@odata.type\": \"#Microsoft.Skills.Text.SplitSkill\",\n",
        "            \"context\": \"/document\",\n",
        "            \"textSplitMode\": \"pages\",\n",
        "            \"maximumPageLength\": 5000, # 5000 is default\n",
        "            \"defaultLanguageCode\": \"en\",\n",
        "            \"inputs\": [\n",
        "                {\n",
        "                    \"name\": \"text\",\n",
        "                    \"source\": \"/document/content\"\n",
        "                },\n",
        "                {\n",
        "                    \"name\": \"languageCode\",\n",
        "                    \"source\": \"/document/language\"\n",
        "                }\n",
        "            ],\n",
        "            \"outputs\": [\n",
        "                {\n",
        "                    \"name\": \"textItems\",\n",
        "                    \"targetName\": \"pages\"\n",
        "                }\n",
        "            ]\n",
        "        },\n",
        "        {\n",
        "            \"@odata.type\": \"#Microsoft.Skills.Text.KeyPhraseExtractionSkill\",\n",
        "            \"context\": \"/document/pages/*\",\n",
        "            \"maxKeyPhraseCount\": 2,\n",
        "            \"defaultLanguageCode\": \"en\",\n",
        "            \"inputs\": [\n",
        "                {\n",
        "                    \"name\": \"text\", \n",
        "                    \"source\": \"/document/pages/*\"\n",
        "                },\n",
        "                {\n",
        "                    \"name\": \"languageCode\",\n",
        "                    \"source\": \"/document/language\"\n",
        "                }\n",
        "            ],\n",
        "            \"outputs\": [\n",
        "                {\n",
        "                    \"name\": \"keyPhrases\",\n",
        "                    \"targetName\": \"keyPhrases\"\n",
        "                }\n",
        "            ]\n",
        "        },\n",
        "        {\n",
        "            \"@odata.type\": \"#Microsoft.Skills.Text.V3.EntityRecognitionSkill\",\n",
        "            \"context\": \"/document/pages/*\",\n",
        "            \"categories\": [\"Person\", \"Location\", \"Organization\", \"DateTime\", \"URL\", \"Email\"],\n",
        "            \"minimumPrecision\": 0.5, \n",
        "            \"defaultLanguageCode\": \"en\",\n",
        "            \"inputs\": [\n",
        "                {\n",
        "                    \"name\": \"text\", \n",
        "                    \"source\":\"/document/pages/*\"\n",
        "                },\n",
        "                {\n",
        "                    \"name\": \"languageCode\",\n",
        "                    \"source\": \"/document/language\"\n",
        "                }\n",
        "            ],\n",
        "            \"outputs\": [\n",
        "                {\n",
        "                    \"name\": \"persons\", \n",
        "                    \"targetName\": \"persons\"\n",
        "                },\n",
        "                {\n",
        "                    \"name\": \"locations\", \n",
        "                    \"targetName\": \"locations\"\n",
        "                },\n",
        "                {\n",
        "                    \"name\": \"organizations\", \n",
        "                    \"targetName\": \"organizations\"\n",
        "                },\n",
        "                {\n",
        "                    \"name\": \"dateTimes\", \n",
        "                    \"targetName\": \"dateTimes\"\n",
        "                },\n",
        "                {\n",
        "                    \"name\": \"urls\", \n",
        "                    \"targetName\": \"urls\"\n",
        "                },\n",
        "                {\n",
        "                    \"name\": \"emails\", \n",
        "                    \"targetName\": \"emails\"\n",
        "                }\n",
        "            ]\n",
        "        }\n",
        "    ],\n",
        "    \"cognitiveServices\": {\n",
        "        \"@odata.type\": \"#Microsoft.Azure.Search.CognitiveServicesByKey\",\n",
        "        \"description\": os.environ['COG_SERVICES_NAME'],\n",
        "        \"key\": os.environ['COG_SERVICES_KEY']\n",
        "    }\n",
        "}\n",
        "\n",
        "r = requests.put(os.environ['AZURE_SEARCH_ENDPOINT'] + \"/skillsets/\" + skillset_name,\n",
        "                 data=json.dumps(skillset_payload), headers=headers, params=params)\n",
        "print(r.status_code)\n",
        "print(r.ok)"
      ]
    },
    {
      "cell_type": "code",
      "execution_count": 152,
      "id": "d9490893-0e69-4f26-8869-1838969e7a50",
      "metadata": {
        "gather": {
          "logged": 1687904997893
        },
        "jupyter": {
          "outputs_hidden": false,
          "source_hidden": false
        },
        "nteract": {
          "transient": {
            "deleting": false
          }
        }
      },
      "outputs": [
        {
          "name": "stdout",
          "output_type": "stream",
          "text": [
            "201\n",
            "True\n",
            "{\"@odata.context\":\"https://cog-search-bimbirzg7bdhi.search.windows.net/$metadata#indexes/$entity\",\"@odata.etag\":\"\\\"0x8DB775E0A16AF49\\\"\",\"name\":\"cogsrch-index-files-sp-ananya\",\"defaultScoringProfile\":null,\"fields\":[{\"name\":\"id\",\"type\":\"Edm.String\",\"searchable\":false,\"filterable\":true,\"retrievable\":true,\"sortable\":true,\"facetable\":true,\"key\":true,\"indexAnalyzer\":null,\"searchAnalyzer\":null,\"analyzer\":null,\"normalizer\":null,\"synonymMaps\":[]},{\"name\":\"metadata_spo_item_name\",\"type\":\"Edm.String\",\"searchable\":true,\"filterable\":false,\"retrievable\":true,\"sortable\":false,\"facetable\":false,\"key\":false,\"indexAnalyzer\":null,\"searchAnalyzer\":null,\"analyzer\":null,\"normalizer\":null,\"synonymMaps\":[]},{\"name\":\"metadata_spo_item_path\",\"type\":\"Edm.String\",\"searchable\":false,\"filterable\":false,\"retrievable\":true,\"sortable\":false,\"facetable\":false,\"key\":false,\"indexAnalyzer\":null,\"searchAnalyzer\":null,\"analyzer\":null,\"normalizer\":null,\"synonymMaps\":[]},{\"name\":\"metadata_spo_item_content_type\",\"type\":\"Edm.String\",\"searchable\":false,\"filterable\":true,\"retrievable\":true,\"sortable\":false,\"facetable\":true,\"key\":false,\"indexAnalyzer\":null,\"searchAnalyzer\":null,\"analyzer\":null,\"normalizer\":null,\"synonymMaps\":[]},{\"name\":\"metadata_spo_item_last_modified\",\"type\":\"Edm.DateTimeOffset\",\"searchable\":false,\"filterable\":false,\"retrievable\":true,\"sortable\":true,\"facetable\":false,\"key\":false,\"indexAnalyzer\":null,\"searchAnalyzer\":null,\"analyzer\":null,\"normalizer\":null,\"synonymMaps\":[]},{\"name\":\"metadata_spo_item_size\",\"type\":\"Edm.Int64\",\"searchable\":false,\"filterable\":false,\"retrievable\":true,\"sortable\":false,\"facetable\":false,\"key\":false,\"indexAnalyzer\":null,\"searchAnalyzer\":null,\"analyzer\":null,\"normalizer\":null,\"synonymMaps\":[]},{\"name\":\"content\",\"type\":\"Edm.String\",\"searchable\":true,\"filterable\":false,\"retrievable\":true,\"sortable\":false,\"facetable\":false,\"key\":false,\"indexAnalyzer\":null,\"searchAnalyzer\":null,\"analyzer\":null,\"normalizer\":null,\"synonymMaps\":[]}],\"scoringProfiles\":[],\"corsOptions\":null,\"suggesters\":[],\"analyzers\":[],\"normalizers\":[],\"tokenizers\":[],\"tokenFilters\":[],\"charFilters\":[],\"encryptionKey\":null,\"similarity\":{\"@odata.type\":\"#Microsoft.Azure.Search.BM25Similarity\",\"k1\":null,\"b\":null}}\n"
          ]
        }
      ],
      "source": [
        "# Create an index\n",
        "# Queries operate over the searchable fields and filterable fields in the index\n",
        "index_payload = {\n",
        "    \"name\" : index_name,\n",
        "    \"fields\": [\n",
        "        { \"name\": \"id\", \"type\": \"Edm.String\", \"key\": \"true\", \"searchable\": \"false\" },\n",
        "        { \"name\": \"metadata_spo_item_name\", \"type\": \"Edm.String\", \"key\": \"false\", \"searchable\": \"true\", \"filterable\": \"false\", \"sortable\": \"false\", \"facetable\": \"false\" },\n",
        "        { \"name\": \"metadata_spo_item_path\", \"type\": \"Edm.String\", \"key\": \"false\", \"searchable\": \"false\", \"filterable\": \"false\", \"sortable\": \"false\", \"facetable\": \"false\" },\n",
        "        { \"name\": \"metadata_spo_item_content_type\", \"type\": \"Edm.String\", \"key\": \"false\", \"searchable\": \"false\", \"filterable\": \"true\", \"sortable\": \"false\", \"facetable\": \"true\" },\n",
        "        { \"name\": \"metadata_spo_item_last_modified\", \"type\": \"Edm.DateTimeOffset\", \"key\": \"false\", \"searchable\": \"false\", \"filterable\": \"false\", \"sortable\": \"true\", \"facetable\": \"false\" },\n",
        "        { \"name\": \"metadata_spo_item_size\", \"type\": \"Edm.Int64\", \"key\": \"false\", \"searchable\": \"false\", \"filterable\": \"false\", \"sortable\": \"false\", \"facetable\": \"false\" },\n",
        "        { \"name\": \"content\", \"type\": \"Edm.String\", \"searchable\": \"true\", \"filterable\": \"false\", \"sortable\": \"false\", \"facetable\": \"false\" }\n",
        "    ]\n",
        "    # ,\"semantic\": {\n",
        "    #   \"configurations\": [\n",
        "    #     {\n",
        "    #       \"name\": \"my-semantic-config\",\n",
        "    #       \"prioritizedFields\": {\n",
        "    #         \"titleField\": \n",
        "    #             {\n",
        "    #                 \"fieldName\": \"metadata_spo_item_name\"\n",
        "    #             },\n",
        "    #         \"prioritizedContentFields\": [\n",
        "    #             {\n",
        "    #                 \"fieldName\": \"content\"\n",
        "    #             }\n",
        "    #             ]\n",
        "    #       }\n",
        "    #     }\n",
        "    #   ]\n",
        "    # }\n",
        "}\n",
        "\n",
        "r = requests.put(os.environ['AZURE_SEARCH_ENDPOINT'] + \"/indexes/\" + index_name,\n",
        "                 data=json.dumps(index_payload), headers=headers, params=params)\n",
        "print(r.status_code)\n",
        "print(r.ok)\n",
        "print(r.text)"
      ]
    },
    {
      "cell_type": "code",
      "execution_count": 153,
      "id": "d41f1311-060c-45b0-80b0-e92302538030",
      "metadata": {
        "gather": {
          "logged": 1687905011910
        },
        "jupyter": {
          "outputs_hidden": false,
          "source_hidden": false
        },
        "nteract": {
          "transient": {
            "deleting": false
          }
        }
      },
      "outputs": [
        {
          "name": "stdout",
          "output_type": "stream",
          "text": [
            "201\n",
            "True\n",
            "{\"@odata.context\":\"https://cog-search-bimbirzg7bdhi.search.windows.net/$metadata#indexers/$entity\",\"@odata.etag\":\"\\\"0x8DB775E126E2915\\\"\",\"name\":\"cogsrch-indexer-files-sp-ananya\",\"description\":null,\"dataSourceName\":\"cogsrch-datasource-files-sp-ananya\",\"skillsetName\":null,\"targetIndexName\":\"cogsrch-index-files-sp-ananya\",\"disabled\":null,\"schedule\":null,\"parameters\":{\"batchSize\":null,\"maxFailedItems\":null,\"maxFailedItemsPerBatch\":null,\"base64EncodeKeys\":null,\"configuration\":{\"dataToExtract\":\"contentAndMetadata\"}},\"fieldMappings\":[{\"sourceFieldName\":\"metadata_spo_site_library_item_id\",\"targetFieldName\":\"id\",\"mappingFunction\":{\"name\":\"base64Encode\",\"parameters\":null}}],\"outputFieldMappings\":[],\"cache\":null,\"encryptionKey\":null}\n"
          ]
        }
      ],
      "source": [
        "# POST https://[service name].search.windows.net/indexers?api-version=2020-06-30-Preview\n",
        "\n",
        "# Create an indexer\n",
        "indexer_payload = {\n",
        "    \"name\" : indexer_name,\n",
        "    \"dataSourceName\" : datasource_name,\n",
        "    \"targetIndexName\" : index_name,\n",
        "    #\"skillsetName\": skillset_name,\n",
        "    \"schedule\" : { \"interval\" : \"PT2H\"},\n",
        "    \"parameters\": {\n",
        "        \"configuration\": {\n",
        "            \"dataToExtract\": \"contentAndMetadata\"\n",
        "           # ,\"indexedFileNameExtensions\" : \".pdf, .docx, .aspx\"\n",
        "           # ,\"excludedFileNameExtensions\" : \".png, .jpg\"\n",
        "          \n",
        "      }\n",
        "    },\n",
        "    \"schedule\" : { },\n",
        "    #\"skillsetName\" : skillset_name,\n",
        "    \"fieldMappings\" : [\n",
        "        {\n",
        "            \"sourceFieldName\" : \"metadata_spo_site_library_item_id\",\n",
        "            \"targetFieldName\" : \"id\",\n",
        "            \"mappingFunction\" : {\n",
        "                \"name\" : \"base64Encode\"\n",
        "            }\n",
        "        }\n",
        "    ]\n",
        "  \n",
        "}\n",
        "\n",
        "r = requests.put(os.environ['AZURE_SEARCH_ENDPOINT'] + \"/indexers/\" + indexer_name,\n",
        "                 data=json.dumps(indexer_payload), headers=headers, params=params)\n",
        "print(r.status_code)\n",
        "print(r.ok)\n",
        "print(r.text)"
      ]
    },
    {
      "cell_type": "code",
      "execution_count": 145,
      "id": "dcff68af-3e45-4e51-a2da-c536107d0c35",
      "metadata": {
        "gather": {
          "logged": 1687904450109
        },
        "jupyter": {
          "outputs_hidden": false,
          "source_hidden": false
        },
        "nteract": {
          "transient": {
            "deleting": false
          }
        }
      },
      "outputs": [
        {
          "name": "stdout",
          "output_type": "stream",
          "text": [
            "200\n",
            "{\"@odata.context\":\"https://cog-search-bimbirzg7bdhi.search.windows.net/$metadata#Microsoft.Azure.Search.V2020_06_30_Preview.IndexerExecutionInfo\",\"name\":\"cogsrch-indexer-files-sp-ananya\",\"status\":\"running\",\"lastResult\":{\"status\":\"inProgress\",\"statusDetail\":null,\"errorMessage\":null,\"startTime\":\"2023-06-27T22:20:43.296Z\",\"endTime\":null,\"itemsProcessed\":0,\"itemsFailed\":0,\"initialTrackingState\":null,\"finalTrackingState\":null,\"mode\":\"indexingAllDocs\",\"errors\":[],\"warnings\":[],\"metrics\":null},\"executionHistory\":[],\"limits\":{\"maxRunTime\":\"P1D\",\"maxDocumentExtractionSize\":134217728,\"maxDocumentContentCharactersToExtract\":4194304},\"currentState\":{\"mode\":\"indexingAllDocs\",\"allDocsInitialTrackingState\":null,\"allDocsFinalTrackingState\":null,\"resetDocsInitialTrackingState\":null,\"resetDocsFinalTrackingState\":null,\"resetDocumentKeys\":[],\"resetDatasourceDocumentIds\":[]}}\n"
          ]
        }
      ],
      "source": [
        "# Optionally, get indexer status to confirm that it's running\n",
        "r = requests.get(os.environ['AZURE_SEARCH_ENDPOINT'] + \"/indexers/\" + indexer_name +\n",
        "                 \"/status\", headers=headers, params=params)\n",
        "# pprint(json.dumps(r.json(), indent=1))\n",
        "print(r.status_code)\n",
        "# print(\"Status:\",r.json().get('lastResult').get('status'))\n",
        "# print(\"Items Processed:\",r.json().get('lastResult').get('itemsProcessed'))\n",
        "print(r.text)"
      ]
    },
    {
      "attachments": {},
      "cell_type": "markdown",
      "id": "cb3d29e3-4534-47e8-9e0c-62a29d190b7c",
      "metadata": {
        "nteract": {
          "transient": {
            "deleting": false
          }
        }
      },
      "source": []
    },
    {
      "attachments": {},
      "cell_type": "markdown",
      "id": "3721e74f-2bc9-4c00-ad10-169eafffb281",
      "metadata": {
        "nteract": {
          "transient": {
            "deleting": false
          }
        }
      },
      "source": [
        "# \n",
        "****\n",
        "References: https://learn.microsoft.com/en-us/azure/search/search-howto-index-sharepoint-online\n",
        "****"
      ]
    },
    {
      "cell_type": "code",
      "execution_count": null,
      "id": "f7a07fe5-cf3a-49e3-bb34-41fbacd79ba8",
      "metadata": {
        "jupyter": {
          "outputs_hidden": false,
          "source_hidden": false
        },
        "nteract": {
          "transient": {
            "deleting": false
          }
        }
      },
      "outputs": [],
      "source": []
    }
  ],
  "metadata": {
    "kernel_info": {
      "name": "python310-sdkv2"
    },
    "kernelspec": {
      "display_name": "Python 3.10 - SDK v2",
      "language": "python",
      "name": "python310-sdkv2"
    },
    "language_info": {
      "codemirror_mode": {
        "name": "ipython",
        "version": 3
      },
      "file_extension": ".py",
      "mimetype": "text/x-python",
      "name": "python",
      "nbconvert_exporter": "python",
      "pygments_lexer": "ipython3",
      "version": "3.10.10"
    },
    "microsoft": {
      "host": {
        "AzureML": {
          "notebookHasBeenCompleted": true
        }
      },
      "ms_spell_check": {
        "ms_spell_check_language": "en"
      }
    },
    "nteract": {
      "version": "nteract-front-end@1.0.0"
    }
  },
  "nbformat": 4,
  "nbformat_minor": 5
}
